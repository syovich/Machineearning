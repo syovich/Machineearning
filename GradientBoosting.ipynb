{
 "cells": [
  {
   "cell_type": "code",
   "execution_count": 5,
   "metadata": {
    "collapsed": true
   },
   "outputs": [],
   "source": [
    "from sklearn.datasets import load_boston\n",
    "from sklearn.tree import DecisionTreeRegressor\n",
    "dataset = load_boston()\n",
    "DTR = DecisionTreeRegressor(random_state=0)\n",
    "X = dataset.data\n",
    "y = dataset.target"
   ]
  },
  {
   "cell_type": "code",
   "execution_count": 6,
   "metadata": {
    "collapsed": true
   },
   "outputs": [],
   "source": [
    "fraction = 0.75\n",
    "L = len(X)\n",
    "count = int(fraction * L)\n",
    "X_train = X[:count]\n",
    "y_train = y[:count]\n",
    "\n",
    "X_test = X[count:]\n",
    "y_test = y[count:]"
   ]
  },
  {
   "cell_type": "code",
   "execution_count": null,
   "metadata": {
    "collapsed": false
   },
   "outputs": [
    {
     "name": "stdout",
     "output_type": "stream",
     "text": [
      "5.61184074543\n",
      "5.67891669904\n",
      "5.70215713093"
     ]
    }
   ],
   "source": [
    "import numpy as np\n",
    "def gbm_predict(X):\n",
    "    return [sum([coeff * DTR.predict([x])[0] for DTR, coeff in zip(base_algorithms_list, coefficients_list)]) for x in X]\n",
    "\n",
    "base_algorithms_list = []\n",
    "coefficients_list = []\n",
    "for j in range(10,100,10):\n",
    "    base_algorithms_list = []\n",
    "    coefficients_list = []\n",
    "    for i in range(j):\n",
    "        coefficients_list.append(0.9/(1.0 + i))\n",
    "        y_tr = y_train - np.array(gbm_predict(X_train))\n",
    "        base_algorithms_list.append(DecisionTreeRegressor(max_depth = 50, random_state = 42).fit(X_train,y_tr))\n",
    "    print pow(mean_squared_error(y_test, gbm_predict(X_test)),0.5)"
   ]
  },
  {
   "cell_type": "code",
   "execution_count": 27,
   "metadata": {
    "collapsed": false
   },
   "outputs": [
    {
     "name": "stdout",
     "output_type": "stream",
     "text": [
      "5.72260267314\n"
     ]
    }
   ],
   "source": [
    "from sklearn.metrics import mean_squared_error\n",
    "import math\n",
    "print pow(mean_squared_error(y_test, gbm_predict(X_test)),0.5)"
   ]
  },
  {
   "cell_type": "code",
   "execution_count": 25,
   "metadata": {
    "collapsed": false
   },
   "outputs": [
    {
     "name": "stdout",
     "output_type": "stream",
     "text": [
      "8.27046803494\n"
     ]
    }
   ],
   "source": [
    "from sklearn.linear_model import LinearRegression \n",
    "\n",
    "LR = LinearRegression().fit(X_train, y_train)\n",
    "print pow(mean_squared_error(y_test, LR.predict(X_test)),0.5)"
   ]
  },
  {
   "cell_type": "code",
   "execution_count": null,
   "metadata": {
    "collapsed": true
   },
   "outputs": [],
   "source": []
  }
 ],
 "metadata": {
  "kernelspec": {
   "display_name": "Python 2",
   "language": "python",
   "name": "python2"
  },
  "language_info": {
   "codemirror_mode": {
    "name": "ipython",
    "version": 2
   },
   "file_extension": ".py",
   "mimetype": "text/x-python",
   "name": "python",
   "nbconvert_exporter": "python",
   "pygments_lexer": "ipython2",
   "version": "2.7.11"
  }
 },
 "nbformat": 4,
 "nbformat_minor": 0
}
