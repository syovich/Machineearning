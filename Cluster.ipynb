{
 "cells": [
  {
   "cell_type": "code",
   "execution_count": 53,
   "metadata": {
    "collapsed": false
   },
   "outputs": [],
   "source": [
    "data = open('checkins.dat').read().split('\\n')"
   ]
  },
  {
   "cell_type": "code",
   "execution_count": 54,
   "metadata": {
    "collapsed": false
   },
   "outputs": [
    {
     "name": "stdout",
     "output_type": "stream",
     "text": [
      "['   id    | user_id | venue_id |     latitude      |     longitude     |     created_at      ', '---------+---------+----------+-------------------+-------------------+---------------------', '  984301 | 2041916 |     5222 |                   |                   | 2012-04-21 17:39:01', '  984222 |   15824 |     5222 |        38.8951118 |       -77.0363658 | 2012-04-21 17:43:47', '  984315 | 1764391 |     5222 |                   |                   | 2012-04-21 17:37:18', '  984234 |   44652 |     5222 |         33.800745 |         -84.41052 | 2012-04-21 17:43:43', '  984249 | 2146840 |     5222 |                   |                   | 2012-04-21 17:42:58', '  984268 | 2146843 |     5222 |                   |                   | 2012-04-21 17:42:38', '  984281 | 2146846 |     5222 |                   |                   | 2012-04-21 17:39:40', '  984291 |  105054 |     5222 |        45.5234515 |      -122.6762071 | 2012-04-21 17:39:22']\n"
     ]
    }
   ],
   "source": [
    "print data[:10]"
   ]
  },
  {
   "cell_type": "code",
   "execution_count": 18,
   "metadata": {
    "collapsed": false
   },
   "outputs": [],
   "source": [
    "splitData = map(lambda x: x.split('|'), data)"
   ]
  },
  {
   "cell_type": "code",
   "execution_count": 19,
   "metadata": {
    "collapsed": false
   },
   "outputs": [
    {
     "name": "stdout",
     "output_type": "stream",
     "text": [
      "[['   id    ', ' user_id ', ' venue_id ', '     latitude      ', '     longitude     ', '     created_at      '], ['---------+---------+----------+-------------------+-------------------+---------------------'], ['  984301 ', ' 2041916 ', '     5222 ', '                   ', '                   ', ' 2012-04-21 17:39:01'], ['  984222 ', '   15824 ', '     5222 ', '        38.8951118 ', '       -77.0363658 ', ' 2012-04-21 17:43:47'], ['  984315 ', ' 1764391 ', '     5222 ', '                   ', '                   ', ' 2012-04-21 17:37:18'], ['  984234 ', '   44652 ', '     5222 ', '         33.800745 ', '         -84.41052 ', ' 2012-04-21 17:43:43'], ['  984249 ', ' 2146840 ', '     5222 ', '                   ', '                   ', ' 2012-04-21 17:42:58'], ['  984268 ', ' 2146843 ', '     5222 ', '                   ', '                   ', ' 2012-04-21 17:42:38'], ['  984281 ', ' 2146846 ', '     5222 ', '                   ', '                   ', ' 2012-04-21 17:39:40'], ['  984291 ', '  105054 ', '     5222 ', '        45.5234515 ', '      -122.6762071 ', ' 2012-04-21 17:39:22']]\n"
     ]
    }
   ],
   "source": [
    "print splitData[:10]"
   ]
  },
  {
   "cell_type": "code",
   "execution_count": 20,
   "metadata": {
    "collapsed": false
   },
   "outputs": [],
   "source": [
    "pureData = map(lambda x: [t.replace(' ','') for t in x], splitData)"
   ]
  },
  {
   "cell_type": "code",
   "execution_count": 21,
   "metadata": {
    "collapsed": true
   },
   "outputs": [],
   "source": [
    "pureData.remove(pureData[1])"
   ]
  },
  {
   "cell_type": "code",
   "execution_count": 22,
   "metadata": {
    "collapsed": false
   },
   "outputs": [
    {
     "name": "stdout",
     "output_type": "stream",
     "text": [
      "1021970\n"
     ]
    }
   ],
   "source": [
    "print len(pureData)"
   ]
  },
  {
   "cell_type": "code",
   "execution_count": 23,
   "metadata": {
    "collapsed": false
   },
   "outputs": [],
   "source": [
    "import pandas as pd"
   ]
  },
  {
   "cell_type": "code",
   "execution_count": 26,
   "metadata": {
    "collapsed": false
   },
   "outputs": [],
   "source": [
    "tableData = pd.DataFrame(pureData[1:], columns = pureData[0])"
   ]
  },
  {
   "cell_type": "code",
   "execution_count": 27,
   "metadata": {
    "collapsed": false
   },
   "outputs": [
    {
     "name": "stdout",
     "output_type": "stream",
     "text": [
      "       id  user_id venue_id    latitude     longitude          created_at\n",
      "0  984301  2041916     5222                            2012-04-2117:39:01\n",
      "1  984222    15824     5222  38.8951118   -77.0363658  2012-04-2117:43:47\n",
      "2  984315  1764391     5222                            2012-04-2117:37:18\n",
      "3  984234    44652     5222   33.800745     -84.41052  2012-04-2117:43:43\n",
      "4  984249  2146840     5222                            2012-04-2117:42:58\n",
      "5  984268  2146843     5222                            2012-04-2117:42:38\n",
      "6  984281  2146846     5222                            2012-04-2117:39:40\n",
      "7  984291   105054     5222  45.5234515  -122.6762071  2012-04-2117:39:22\n",
      "8    6651  1338710   219703                            2011-12-0823:11:23\n",
      "9  984318  2146539     5222   40.764462   -111.904565  2012-04-2117:35:46\n"
     ]
    }
   ],
   "source": [
    "print tableData[:10]"
   ]
  },
  {
   "cell_type": "code",
   "execution_count": 29,
   "metadata": {
    "collapsed": false
   },
   "outputs": [],
   "source": [
    "tableData = tableData[tableData.latitude != '']"
   ]
  },
  {
   "cell_type": "code",
   "execution_count": 30,
   "metadata": {
    "collapsed": false
   },
   "outputs": [
    {
     "name": "stdout",
     "output_type": "stream",
     "text": [
      "396637\n"
     ]
    }
   ],
   "source": [
    "print len(tableData)"
   ]
  },
  {
   "cell_type": "code",
   "execution_count": 31,
   "metadata": {
    "collapsed": false
   },
   "outputs": [
    {
     "name": "stdout",
     "output_type": "stream",
     "text": [
      "396637\n"
     ]
    }
   ],
   "source": [
    "tableData = tableData[tableData.longitude != '']\n",
    "print len(tableData)"
   ]
  },
  {
   "cell_type": "code",
   "execution_count": 41,
   "metadata": {
    "collapsed": false
   },
   "outputs": [],
   "source": [
    "Data_test = tableData[:100000]\n",
    "Data_test = Data_test[['latitude','longitude']]"
   ]
  },
  {
   "cell_type": "code",
   "execution_count": 42,
   "metadata": {
    "collapsed": true
   },
   "outputs": [],
   "source": [
    "from sklearn import cluster\n",
    "MS = cluster.MeanShift(bandwidth = 0.1)"
   ]
  },
  {
   "cell_type": "code",
   "execution_count": 48,
   "metadata": {
    "collapsed": false
   },
   "outputs": [],
   "source": [
    "result = MS.fit(Data_test, y = None)"
   ]
  },
  {
   "cell_type": "code",
   "execution_count": 52,
   "metadata": {
    "collapsed": false
   },
   "outputs": [
    {
     "data": {
      "text/plain": [
       "3229"
      ]
     },
     "execution_count": 52,
     "metadata": {},
     "output_type": "execute_result"
    }
   ],
   "source": [
    "len(result.cluster_centers_)"
   ]
  },
  {
   "cell_type": "code",
   "execution_count": 46,
   "metadata": {
    "collapsed": false
   },
   "outputs": [
    {
     "ename": "NameError",
     "evalue": "name 'n_features' is not defined",
     "output_type": "error",
     "traceback": [
      "\u001b[1;31m---------------------------------------------------------------------------\u001b[0m",
      "\u001b[1;31mNameError\u001b[0m                                 Traceback (most recent call last)",
      "\u001b[1;32m<ipython-input-46-9d66e4bb6ccc>\u001b[0m in \u001b[0;36m<module>\u001b[1;34m()\u001b[0m\n\u001b[1;32m----> 1\u001b[1;33m \u001b[0mcenters\u001b[0m \u001b[1;33m=\u001b[0m \u001b[0mresult\u001b[0m\u001b[1;33m.\u001b[0m\u001b[0mcluster_centers_\u001b[0m\u001b[1;33m[\u001b[0m\u001b[0mn_features\u001b[0m \u001b[1;33m>=\u001b[0m \u001b[1;36m15\u001b[0m\u001b[1;33m]\u001b[0m\u001b[1;33m\u001b[0m\u001b[0m\n\u001b[0m",
      "\u001b[1;31mNameError\u001b[0m: name 'n_features' is not defined"
     ]
    }
   ],
   "source": [
    "centers = result.cluster_centers_[n_features >= 15]"
   ]
  },
  {
   "cell_type": "code",
   "execution_count": null,
   "metadata": {
    "collapsed": true
   },
   "outputs": [],
   "source": []
  }
 ],
 "metadata": {
  "kernelspec": {
   "display_name": "Python 2",
   "language": "python",
   "name": "python2"
  },
  "language_info": {
   "codemirror_mode": {
    "name": "ipython",
    "version": 2
   },
   "file_extension": ".py",
   "mimetype": "text/x-python",
   "name": "python",
   "nbconvert_exporter": "python",
   "pygments_lexer": "ipython2",
   "version": "2.7.11"
  }
 },
 "nbformat": 4,
 "nbformat_minor": 0
}
