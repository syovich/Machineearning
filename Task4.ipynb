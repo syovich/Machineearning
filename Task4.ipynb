{
 "cells": [
  {
   "cell_type": "code",
   "execution_count": 8,
   "metadata": {
    "collapsed": true
   },
   "outputs": [],
   "source": [
    "class Split(object):\n",
    "    def __init__(self, feature_id, threshold):\n",
    "        self.feature_id = feature_id\n",
    "        self.threshold = threshold\n",
    "        \n",
    "    def is_greater(self, example):\n",
    "        return example[self.feature_id] > self.threshold\n",
    "        \n",
    "    def get_split(self, X, y):\n",
    "        \n",
    "        X_left = []\n",
    "        y_left = []\n",
    "        X_right = []\n",
    "        y_right = []\n",
    "        \n",
    "        for i in xrange(len(X)):\n",
    "            if self.is_greater(X[i]):\n",
    "                X_right.append(X[i])\n",
    "                y_right.append(y[i])\n",
    "            else:\n",
    "                X_left.append(X[i])\n",
    "                y_left.append(y[i])\n",
    "        \n",
    "        return X_left, y_left, X_right, y_right\n",
    "\n",
    "class Node(object):\n",
    "    def __init__(self, feature_id, threshold):\n",
    "        self.feature_id = feature_id\n",
    "        self.threshold = threshold\n",
    "        self.isLeaf = False\n",
    "        self.resultTarget = None\n",
    "        self.left = None\n",
    "        self.right = None\n",
    "        \n",
    "    def toString(self, i):\n",
    "        res = \"\"\n",
    "        if self.isLeaf:\n",
    "            res = res + \" \" * i + \"Leaf. Result: \" + str(self.resultTarget) + \"\\n\"\n",
    "        else:\n",
    "            res = res + \" \" * i + \"Feature: \" + str(self.feature_id) + \"\\n\" + \" \" * i + \\\n",
    "                    \"Threshold: \" + str(self.threshold) + \"\\n\"\n",
    "            res = res + self.left.toString(i + 2)\n",
    "            res = res + self.right.toString(i + 2)\n",
    "        return res\n",
    "            \n",
    "    def predict(self, x):\n",
    "        if self.isLeaf:\n",
    "            return self.resultTarget\n",
    "        if x[self.feature_id] < self.threshold:\n",
    "            return self.left.predict(x)\n",
    "        else:\n",
    "            return self.right.predict(x)\n",
    "        \n",
    "class DecisionTreeClassifier(object):\n",
    "    \n",
    "    def __init__(self, max_depth): \n",
    "        self.root = None \n",
    "        self.max_depth = max_depth \n",
    "\n",
    "    \n",
    "    def toString(self):\n",
    "        return self.root.toString(1)\n",
    "    \n",
    "    def fit(self, X, y): \n",
    "        self.root = self.make_node(X, y, self.max_depth) \n",
    "        \n",
    "    def make_node(self, X, y, depth): \n",
    "        if len(set(y)) == 1 or depth == 1: \n",
    "            node = Node(None, None) \n",
    "            node.isLeaf = True \n",
    "            node.resultTarget = y[0] \n",
    "            return node \n",
    "        \n",
    "        best_g = sys.maxint\n",
    "        best_feature = -1\n",
    "        best_threshold = -1\n",
    "        X = np.array(X)\n",
    "        for i in xrange(len(X[0])):\n",
    "            tresholds = list(set(X[:, i]))\n",
    "            tresholds.sort()\n",
    "            for t_m in [(tresholds[j] + tresholds[j + 1])/2 for j in range(len(tresholds) - 1)]:\n",
    "                split = Split(i, t_m)\n",
    "                X_l, y_l, X_r, y_r = split.get_split(X, y)\n",
    "                g = self.G(X_l, y_l, X_r, y_r)\n",
    "                if g < best_g:\n",
    "                    best_g = g\n",
    "                    best_feature = i\n",
    "                    best_threshold = t_m\n",
    "                    \n",
    "        node = Node(best_feature, best_threshold)\n",
    "        \n",
    "        split = Split(best_feature, best_threshold)\n",
    "        X_l, y_l, X_r, y_r = split.get_split(X, y)\n",
    "        node.left = self.make_node(X_l, y_l, depth - 1) \n",
    "        node.right = self.make_node(X_r, y_r, depth - 1) \n",
    "        node.isLeaf = False\n",
    "        return node\n",
    "    \n",
    "                \n",
    "    def G(self, X_l, y_l, X_r, y_r):\n",
    "        self.N = len(X_l) + len(X_r)\n",
    "        return float(len(X_l)) / self.N * self.H(y_l) + float(len(X_r)) / self.N * self.H(y_r)\n",
    "        \n",
    "    def H(self, y):\n",
    "        res = 0\n",
    "        for k in set(y):\n",
    "            res = res + self.p_k(y, k) * (1 - self.p_k(y, k))\n",
    "        return res\n",
    "    \n",
    "    def p_k(self, y, k):\n",
    "        res = 0\n",
    "        for i in y:\n",
    "            if i == k:\n",
    "                res = res + 1\n",
    "        return float(res) / self.N\n",
    "        \n",
    "    def predict(self, x):\n",
    "        return self.root.predict(x)\n",
    "        "
   ]
  },
  {
   "cell_type": "code",
   "execution_count": 11,
   "metadata": {
    "collapsed": true
   },
   "outputs": [],
   "source": [
    "import sys\n",
    "import numpy as np"
   ]
  },
  {
   "cell_type": "code",
   "execution_count": 3,
   "metadata": {
    "collapsed": true
   },
   "outputs": [],
   "source": [
    "data_text = open(\"germandata.txt\", \"r\").read().split('\\n')\n",
    "dataset = [map(int, line.split()) for line in data_text if line]"
   ]
  },
  {
   "cell_type": "code",
   "execution_count": 4,
   "metadata": {
    "collapsed": true
   },
   "outputs": [],
   "source": [
    "X = [row[:-1] for row in dataset]\n",
    "y = [row[-1] for row in dataset]"
   ]
  },
  {
   "cell_type": "code",
   "execution_count": 5,
   "metadata": {
    "collapsed": true
   },
   "outputs": [],
   "source": [
    "from sklearn.ensemble import RandomForestClassifier, GradientBoostingClassifier\n",
    "\n",
    "fraction = 0.8\n",
    "L = len(X)\n",
    "count = int(fraction * L)\n",
    "X_train = X[:count]\n",
    "y_train = y[:count]\n",
    "\n",
    "X_test = X[count:]\n",
    "y_test = y[count:]"
   ]
  },
  {
   "cell_type": "code",
   "execution_count": 12,
   "metadata": {
    "collapsed": false
   },
   "outputs": [],
   "source": [
    "clf = DecisionTreeClassifier(5)\n",
    "clf.fit(X_train, y_train)"
   ]
  },
  {
   "cell_type": "code",
   "execution_count": 13,
   "metadata": {
    "collapsed": false
   },
   "outputs": [
    {
     "name": "stdout",
     "output_type": "stream",
     "text": [
      " Feature: 0\n",
      " Threshold: 1\n",
      "   Feature: 1\n",
      "   Threshold: 20\n",
      "     Feature: 9\n",
      "     Threshold: 29\n",
      "       Feature: 3\n",
      "       Threshold: 13\n",
      "         Leaf. Result: 2\n",
      "         Leaf. Result: 1\n",
      "       Feature: 20\n",
      "       Threshold: 0\n",
      "         Leaf. Result: 1\n",
      "         Leaf. Result: 1\n",
      "     Feature: 9\n",
      "     Threshold: 31\n",
      "       Feature: 3\n",
      "       Threshold: 35\n",
      "         Leaf. Result: 2\n",
      "         Leaf. Result: 2\n",
      "       Feature: 9\n",
      "       Threshold: 43\n",
      "         Leaf. Result: 2\n",
      "         Leaf. Result: 1\n",
      "   Feature: 0\n",
      "   Threshold: 2\n",
      "     Feature: 1\n",
      "     Threshold: 20\n",
      "       Feature: 6\n",
      "       Threshold: 2\n",
      "         Leaf. Result: 2\n",
      "         Leaf. Result: 1\n",
      "       Feature: 4\n",
      "       Threshold: 1\n",
      "         Leaf. Result: 2\n",
      "         Leaf. Result: 1\n",
      "     Feature: 9\n",
      "     Threshold: 19\n",
      "       Leaf. Result: 2\n",
      "       Feature: 3\n",
      "       Threshold: 113\n",
      "         Leaf. Result: 1\n",
      "         Leaf. Result: 2\n",
      "\n"
     ]
    }
   ],
   "source": [
    "print clf.toString()"
   ]
  },
  {
   "cell_type": "code",
   "execution_count": null,
   "metadata": {
    "collapsed": true
   },
   "outputs": [],
   "source": []
  }
 ],
 "metadata": {
  "kernelspec": {
   "display_name": "Python 2",
   "language": "python",
   "name": "python2"
  },
  "language_info": {
   "codemirror_mode": {
    "name": "ipython",
    "version": 2
   },
   "file_extension": ".py",
   "mimetype": "text/x-python",
   "name": "python",
   "nbconvert_exporter": "python",
   "pygments_lexer": "ipython2",
   "version": "2.7.11"
  }
 },
 "nbformat": 4,
 "nbformat_minor": 0
}
